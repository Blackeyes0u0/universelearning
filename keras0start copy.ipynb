{
 "cells": [
  {
   "cell_type": "code",
   "execution_count": 22,
   "metadata": {},
   "outputs": [],
   "source": [
    "from keras.models import Sequential\n",
    "model = Sequential()\n",
    "\n",
    "#.add()\n",
    "\n",
    "from keras.layers import Dense\n",
    "\n",
    "model.add(Dense(units=64, activation ='relu',input_dim=100))\n",
    "model.add(Dense(units=10, activation ='softmax'))"
   ]
  },
  {
   "cell_type": "code",
   "execution_count": 23,
   "metadata": {},
   "outputs": [],
   "source": [
    "# 셀 추가하기\n",
    "# - 현재 셀 위에 추가: (command 모드) a\n",
    "# - 현재 셀 아래 추가: (command 모드) b\n",
    " \n",
    "# 셀 삭제하기\n",
    "# - 현재 셀 삭제: (command 모드) dd\n",
    "# - 셀 제거 취소하기: (command 모드) z\n",
    "\n",
    "# 셀 복사하기\n",
    "# - 현재 셀 복사: (command 모드) c\n",
    "# 셀 붙여넣기\n",
    "\n",
    "# - 현재 셀 위에 붙여 넣기: (command 모드) Shift + v\n",
    "# - 현재 셀 아래 붙여 넣기: (command 모드) v\n",
    "\n",
    "# 셀 이동시키기\n",
    "# - 위아래 버튼을 클릭해서 현재 셀을 이동시킬 수 있습니다.\n",
    "\n",
    "# 모든주석처리 command + /\n"
   ]
  },
  {
   "cell_type": "code",
   "execution_count": 24,
   "metadata": {},
   "outputs": [],
   "source": [
    "# if i like the model\n",
    "\n",
    "model.compile(loss='categorical_crossentropy',\n",
    "optimizer='sgd',metrics=['accuracy'])"
   ]
  },
  {
   "cell_type": "code",
   "execution_count": 25,
   "metadata": {},
   "outputs": [],
   "source": [
    "import tensorflow as tf\n",
    "from tensorflow import keras\n",
    "from tensorflow.keras import layers\n"
   ]
  },
  {
   "cell_type": "code",
   "execution_count": 28,
   "metadata": {},
   "outputs": [],
   "source": [
    "# define sequential model with 3layers\n",
    "\n",
    "model = keras.Sequential(\n",
    "    [\n",
    "        layers.Dense(2,activation='relu',name=\"layer1\"),\n",
    "        layers.Dense(3,activation='relu',name=\"layer2\"),\n",
    "        layers.Dense(4,name=\"layer3\"),\n",
    "\n",
    "    ]\n",
    ")\n",
    "\n",
    "# call model on a test input\n",
    "x = tf.ones((3,3))\n",
    "y = model(x)"
   ]
  },
  {
   "cell_type": "code",
   "execution_count": 29,
   "metadata": {},
   "outputs": [],
   "source": [
    "model = keras.Sequential(\n",
    "    [\n",
    "        layers.Dense(2, activation='relu'),\n",
    "        layers.Dense(3, activation='relu'),\n",
    "        layers.Dense(4),\n",
    "    ]\n",
    ")"
   ]
  },
  {
   "cell_type": "code",
   "execution_count": 30,
   "metadata": {},
   "outputs": [],
   "source": [
    "# model loss\n",
    "model.compile(loss='mean_squared_error',optimizer='sgd')\n",
    "from keras import losses\n"
   ]
  },
  {
   "cell_type": "code",
   "execution_count": 31,
   "metadata": {},
   "outputs": [],
   "source": [
    "from keras import metrics\n",
    "\n",
    "model.compile(loss='mean_squared_error',\n",
    "              optimizer='sgd',\n",
    "              metrics=[metrics.mae, metrics.categorical_accuracy])\n",
    "\n",
    "# 측정 가능 항목\n",
    "# binary_acc\n",
    "\n",
    "import keras.backend as K\n",
    "\n",
    "def mean_pred(y_true, y_pred):\n",
    "    return K.mean(y_pred)\n",
    "\n",
    "model.compile(optimizer='rmsprop',\n",
    "              loss='binary_crossentropy',\n",
    "              metrics=['accuracy', mean_pred])"
   ]
  },
  {
   "cell_type": "code",
   "execution_count": 32,
   "metadata": {},
   "outputs": [
    {
     "ename": "NameError",
     "evalue": "name 'Activation' is not defined",
     "output_type": "error",
     "traceback": [
      "\u001b[0;31m---------------------------------------------------------------------------\u001b[0m",
      "\u001b[0;31mNameError\u001b[0m                                 Traceback (most recent call last)",
      "\u001b[1;32m/Users/juniverse/vscode/dl/GN_Drive/keras0start.ipynb Cell 9'\u001b[0m in \u001b[0;36m<cell line: 5>\u001b[0;34m()\u001b[0m\n\u001b[1;32m      <a href='vscode-notebook-cell:/Users/juniverse/vscode/dl/GN_Drive/keras0start.ipynb#ch0000011?line=2'>3</a>\u001b[0m model \u001b[39m=\u001b[39m Sequential()\n\u001b[1;32m      <a href='vscode-notebook-cell:/Users/juniverse/vscode/dl/GN_Drive/keras0start.ipynb#ch0000011?line=3'>4</a>\u001b[0m model\u001b[39m.\u001b[39madd(Dense(\u001b[39m64\u001b[39m, kernel_initializer\u001b[39m=\u001b[39m\u001b[39m'\u001b[39m\u001b[39muniform\u001b[39m\u001b[39m'\u001b[39m, input_shape\u001b[39m=\u001b[39m(\u001b[39m10\u001b[39m,)))\n\u001b[0;32m----> <a href='vscode-notebook-cell:/Users/juniverse/vscode/dl/GN_Drive/keras0start.ipynb#ch0000011?line=4'>5</a>\u001b[0m model\u001b[39m.\u001b[39madd(Activation(\u001b[39m'\u001b[39m\u001b[39msoftmax\u001b[39m\u001b[39m'\u001b[39m))\n\u001b[1;32m      <a href='vscode-notebook-cell:/Users/juniverse/vscode/dl/GN_Drive/keras0start.ipynb#ch0000011?line=6'>7</a>\u001b[0m sgd \u001b[39m=\u001b[39m optimizers\u001b[39m.\u001b[39mSGD(lr\u001b[39m=\u001b[39m\u001b[39m0.01\u001b[39m, decay\u001b[39m=\u001b[39m\u001b[39m1e-6\u001b[39m, momentum\u001b[39m=\u001b[39m\u001b[39m0.9\u001b[39m, nesterov\u001b[39m=\u001b[39m\u001b[39mTrue\u001b[39;00m)\n\u001b[1;32m      <a href='vscode-notebook-cell:/Users/juniverse/vscode/dl/GN_Drive/keras0start.ipynb#ch0000011?line=7'>8</a>\u001b[0m model\u001b[39m.\u001b[39mcompile(loss\u001b[39m=\u001b[39m\u001b[39m'\u001b[39m\u001b[39mmean_squared_error\u001b[39m\u001b[39m'\u001b[39m, optimizer\u001b[39m=\u001b[39msgd)\n",
      "\u001b[0;31mNameError\u001b[0m: name 'Activation' is not defined"
     ]
    }
   ],
   "source": [
    "\n",
    "from keras import optimizers\n",
    "\n",
    "model = Sequential()\n",
    "model.add(Dense(64, kernel_initializer='uniform', input_shape=(10,)))\n",
    "model.add(Activation('softmax'))\n",
    "\n",
    "sgd = optimizers.SGD(lr=0.01, decay=1e-6, momentum=0.9, nesterov=True)\n",
    "model.compile(loss='mean_squared_error', optimizer=sgd)"
   ]
  },
  {
   "cell_type": "code",
   "execution_count": 34,
   "metadata": {},
   "outputs": [
    {
     "name": "stderr",
     "output_type": "stream",
     "text": [
      "/Users/juniverse/opt/anaconda3/envs/akihabara_deep/lib/python3.9/site-packages/keras/optimizer_v2/gradient_descent.py:102: UserWarning: The `lr` argument is deprecated, use `learning_rate` instead.\n",
      "  super(SGD, self).__init__(name, **kwargs)\n"
     ]
    }
   ],
   "source": [
    "from tensorflow.keras import optimizers\n",
    "\n",
    "# All parameter gradients will be clipped to\n",
    "# a maximum norm of 1.\n",
    "sgd = optimizers.SGD(lr=0.01, clipnorm=1.)"
   ]
  },
  {
   "cell_type": "code",
   "execution_count": 37,
   "metadata": {},
   "outputs": [
    {
     "data": {
      "text/plain": [
       "<keras.optimizer_v2.rmsprop.RMSprop at 0x7fa92e1049d0>"
      ]
     },
     "execution_count": 37,
     "metadata": {},
     "output_type": "execute_result"
    }
   ],
   "source": [
    " keras.optimizers.SGD(lr=0.01, momentum=0.0, decay=0.0, nesterov=False)\n",
    "# 확률적 경사 하강법(Stochastic Gradient Descent, SGD) 옵티마이저.\n",
    "\n",
    "# 모멘텀과 네스테로프 모멘텀(Nesterov momentum), 그리고 학습률 감소 기법(learning rate decay)을 지원합니다.\n",
    "\n",
    "# lr: 0보다 크거나 같은 float 값. 학습률.\n",
    "# momentum: 0보다 크거나 같은 float 값. SGD를 적절한 방향으로 가속화하며, 흔들림(진동)을 줄여주는 매개변수입니다.\n",
    "# decay: 0보다 크거나 같은 float 값. 업데이트마다 적용되는 학습률의 감소율입니다.\n",
    "# nesterov: 불리언. 네스테로프 모멘텀의 적용 여부를 설정합니다.\n",
    "\n",
    "keras.optimizers.RMSprop(lr=0.001, rho=0.9, epsilon=None, decay=0.0)\n",
    "\n",
    "# RMSProp을 사용할 때는 학습률을 제외한 모든 인자의 기본값을 사용하는 것이 권장됩니다.\n",
    "\n",
    "# 일반적으로 순환 신경망(Recurrent Neural Networks)의 옵티마이저로 많이 사용됩니다.\n",
    "\n",
    "# 인자\n",
    "\n",
    "# lr: 0보다 크거나 같은 float 값. 학습률.\n",
    "# rho: 0보다 크거나 같은 float 값.\n",
    "# epsilon: 0보다 크거나 같은 float형 fuzz factor. None인 경우 K.epsilon()이 사용됩니다.\n",
    "# decay: 0보다 크거나 같은 float 값. 업데이트마다 적용되는 학습률의 감소율입니다.\n",
    "# 참고\n",
    "\n",
    "# rmsprop: Divide the gradient by a running average of its recent magnitude"
   ]
  },
  {
   "cell_type": "code",
   "execution_count": 38,
   "metadata": {},
   "outputs": [],
   "source": [
    "# Activatioin \n",
    "\n",
    "#Activations는 Activation 층이나 앞선 층에서 지원하는 모든 activation argument로 이용 가능합니다:\n",
    "\n",
    "from keras.layers import Activation, Dense\n",
    "\n",
    "model.add(Dense(64))\n",
    "model.add(Activation('tanh'))\n",
    "\n",
    "#이것은 다음과 같습니다:\n",
    "\n",
    "model.add(Dense(64, activation='tanh'))\n",
    "#여러분은 Tensorflow/Theano/CNTK 의 element-wise 함수도 활성함수로 이용할 수 있습니다:\n",
    "\n",
    "from keras import backend as K\n",
    "\n",
    "model.add(Dense(64, activation=K.tanh))"
   ]
  },
  {
   "cell_type": "code",
   "execution_count": null,
   "metadata": {},
   "outputs": [],
   "source": []
  },
  {
   "cell_type": "code",
   "execution_count": 52,
   "metadata": {},
   "outputs": [
    {
     "data": {
      "text/plain": [
       "array([[19, 22],\n",
       "       [43, 50]])"
      ]
     },
     "execution_count": 52,
     "metadata": {},
     "output_type": "execute_result"
    }
   ],
   "source": [
    "\"\"\" 내적 \"\"\"\n",
    "A = np.array([[1,2], [3,4]])\n",
    "A.shape\n",
    "\n",
    "B = np.array([[5,6], [7,8]])\n",
    "B.shape\n",
    "\n",
    "np.dot(A,B)\n",
    "\n",
    "#array([[19, 22],\n",
    "#       [43, 50]])\n",
    "\n",
    "\n"
   ]
  },
  {
   "cell_type": "code",
   "execution_count": 54,
   "metadata": {},
   "outputs": [
    {
     "name": "stdout",
     "output_type": "stream",
     "text": [
      "[0.3 0.7 1.1] [0.57444252 0.66818777 0.75026011]\n"
     ]
    }
   ],
   "source": [
    "\"\"\" 간단한 신경망 구현 \n",
    "    입력층에서 1층으로 가는 신호 \n",
    "    첫 번째 히든 레이어의 노드 수는 3개\n",
    "\"\"\"\n",
    "\n",
    "def sigmoid(num) : \n",
    "    return 1/(1+np.exp(-num))\n",
    "\n",
    "X = np.array([1.0,0.5]) # 입력이 2개 (x1, x2)\n",
    "W1 = np.array([[0.1,0.3,0.5],[0.2,0.4,0.6]]) # 입력에 대응하는 weights \n",
    "B1 = np.array([0.1,0.2,0.3]) # bias\n",
    "\n",
    "A1 = np.dot(X,W1) + B1\n",
    "Z1 = sigmoid(A1) # 첫 번째 레이어의 최종 아웃풋\n",
    "\n",
    "print(A1,Z1)\n",
    "\n"
   ]
  },
  {
   "cell_type": "code",
   "execution_count": 58,
   "metadata": {},
   "outputs": [
    {
     "name": "stdout",
     "output_type": "stream",
     "text": [
      "[0.31682708 0.69627909]\n"
     ]
    }
   ],
   "source": [
    "\"\"\" 1층에서 2층으로 가는 신호 구현\n",
    "\"\"\"\n",
    "W2 = np.array([[0.1,0.4],[0.2,0.5],[0.3,0.6]])\n",
    "B2 = np.array([0.1,0.2])\n",
    "\n",
    "A2 = np.dot(Z1, W2) + B2\n",
    "Z2 = sigmoid(A2)\n",
    "\n",
    "\n",
    "\"\"\" 2층에서 출력층으로 가는 신호 구현\n",
    "\"\"\"\n",
    "\n",
    "# 출력층의 활성화 함수로 항등함수를 쓴다. \n",
    "# 회귀의 경우 출력층의 활성화 함수로 일반적으로 항등항수를  쓴다.\n",
    "# 2-class classification에서는 sigmoid\n",
    "# 3-class 이상의 classification에서는 softmax를 쓴다.\n",
    "def identity_function(x) :\n",
    "    return x\n",
    "\n",
    "W3 = np.array([[0.1,0.3],[0.2,0.4]])\n",
    "B3 = np.array([0.1,0.2])\n",
    "\n",
    "\n",
    "A3 = np.dot(Z2, W3) + B3\n",
    "Y = identity_function(A3)\n",
    "print(Y)\n",
    "\n",
    "\n"
   ]
  },
  {
   "cell_type": "code",
   "execution_count": 60,
   "metadata": {},
   "outputs": [
    {
     "name": "stderr",
     "output_type": "stream",
     "text": [
      "/var/folders/j9/psjfyfss16v_xrrj6mh5sw0h0000gn/T/ipykernel_22298/3898481477.py:16: DeprecationWarning: `np.int` is a deprecated alias for the builtin `int`. To silence this warning, use `int` by itself. Doing this will not modify any behavior and is safe. When replacing `np.int`, you may wish to use e.g. `np.int64` or `np.int32` to specify the precision. If you wish to review your current use, check the release note link for additional information.\n",
      "Deprecated in NumPy 1.20; for more details and guidance: https://numpy.org/devdocs/release/1.20.0-notes.html#deprecations\n",
      "  return y.astype(np.int)\n"
     ]
    },
    {
     "data": {
      "image/png": "[encoded data removed]",
      "text/plain": [
       "<Figure size 432x288 with 1 Axes>"
      ]
     },
     "metadata": {
      "needs_background": "light"
     },
     "output_type": "display_data"
    }
   ],
   "source": [
    "import numpy as np\n",
    "import matplotlib.pyplot as plt\n",
    "%matplotlib inline\n",
    "\"\"\" 일반적인 step_function \"\"\"\n",
    "def step_function(x) : \n",
    "    if x > 0 :\n",
    "        return 1\n",
    "    else : \n",
    "        return 0\n",
    "\n",
    "\"\"\" numpy의 트릭을 사용한 step function 구현 \"\"\"\n",
    "def step_function_np(x) : \n",
    "    y = x > 0\n",
    "    # boolean을 int로 변환하면 True = 1, False = 0이 된다.\n",
    "    # numpy 배열의 type을 변경할 때 .astype을 쓴다.\n",
    "    return y.astype(np.int)\n",
    "\n",
    "x = np.arange(-5.0, 5.0, 0.1) # -5.0부터 5.0까지 0.1 간격의 numpy array 생성\n",
    "y = step_function_np(x)\n",
    "\n",
    "plt.plot(x,y)\n",
    "plt.ylim(-0.1,1.1)\n",
    "plt.show()\n"
   ]
  },
  {
   "cell_type": "code",
   "execution_count": 67,
   "metadata": {},
   "outputs": [
    {
     "data": {
      "image/png": "[encoded data removed]",
      "text/plain": [
       "<Figure size 432x288 with 1 Axes>"
      ]
     },
     "metadata": {
      "needs_background": "light"
     },
     "output_type": "display_data"
    }
   ],
   "source": [
    "def sigmoid(x) :\n",
    "    return 1 / (1+np.exp(-x))\n",
    "\n",
    "x = np.array([-1.0, 1.0, 2.0])\n",
    "\n",
    "# numpy broadcast 기능으로 인해 정상수행\n",
    "sigmoid(x)\n",
    "\n",
    "x=np.arange(-10,10,0.1)\n",
    "plt.plot(x,sigmoid(x))\n",
    "plt.show()\n",
    "\n"
   ]
  },
  {
   "cell_type": "code",
   "execution_count": 72,
   "metadata": {},
   "outputs": [
    {
     "data": {
      "image/png": "[encoded data removed]",
      "text/plain": [
       "<Figure size 432x288 with 1 Axes>"
      ]
     },
     "metadata": {
      "needs_background": "light"
     },
     "output_type": "display_data"
    }
   ],
   "source": [
    "def relu(x) : \n",
    "    return np.maximum(0, x)\n",
    "\n",
    "x=np.arange(-10,10,0.1)\n",
    "plt.plot(x,relu(x))\n",
    "plt.ylim(-1,10)\n",
    "plt.show()\n"
   ]
  },
  {
   "cell_type": "code",
   "execution_count": 74,
   "metadata": {},
   "outputs": [
    {
     "name": "stdout",
     "output_type": "stream",
     "text": [
      "[0.01821127 0.24519181 0.73659691]\n",
      "1.0\n"
     ]
    }
   ],
   "source": [
    "# soft max \n",
    "\"\"\" Softmax 구현 \"\"\"\n",
    "import numpy as np\n",
    "\n",
    "def softmax(a) :\n",
    "    exp_a = np.exp(a)\n",
    "    sum_exp_a = np.sum(exp_a)\n",
    "    y = exp_a / sum_exp_a\n",
    "    \n",
    "    return y\n",
    "\n",
    "a = np.array([0.3, 2.9, 4.0])\n",
    "\n",
    "print(softmax(a)) # softmax 결과값 출력\n",
    "print(sum(softmax(a))) # softmax 결과값들의 합은 1이 된다.\n"
   ]
  },
  {
   "cell_type": "code",
   "execution_count": 75,
   "metadata": {},
   "outputs": [
    {
     "data": {
      "text/plain": [
       "'\\nWord Embedding\\n\\nWord Embedding이란 Deep Learning 분야, 이 중에서도 특히 자연어처리에서 필수적으로 알아야할 개념이다. Word Embedding은 Word를 R차원의 Vector로 매핑시켜주는 것을 말한다.\\n\\n예를 들어 위와 같이 cat이나 mat같은 단어를 특정 차원의 벡터로 바꾸어주는 것이다. 이렇게 단어를 벡터로 바꾸어주는 것은 하나의 Matrix이다. 이를 W라 부른다. W 함수는 매우 중요하다. 이를 통해 단어가 의미 있는 벡터로 변한다. 비슷한 두 개의 단어는 비슷한 벡터로 바뀐다던지 하는 식으로 말이다. W는 Learning을 통해 학습할 수 있다.\\n예를 들어, 5000개의 단어로 이루어진 단어 세트가 있으면 각각의 단어는 [0,0,0,1,0 ... 0,0,0] (5000열) 과 같이 나타낼 수 있다. 이 때 각각의 단어를 Word Embedding을 통해 32차원 벡터로 나타내고자 하면 W의 차원은 5000*32이다. 이를 학습하여 [0.2,0,4,0.5 ... 0.8,8] 과 같은 32차원의 벡터를 형성해낸다.\\nWord Embedding은 다음과 같은 놀라운 특성도 가질 수 있다.\\n\\nwoman을 나타내는 벡터와 man을 나타내는 벡터의 차이는 남녀의 차이를 나타내는 벡터이다. 이것이 aunt와 uncle의 차이를 만들어낸다. 예를 들어 he is a man는 옳은문장 she is a man은 틀린 문장을 구분하는 classifier에서 aunt와 uncle에 대해서도 똑같은 일을 할 수 있게 만든다.\\n\\n참고\\n\\n\\n\\nhttp://colah.github.io/posts/2014-07-NLP-RNNs-Representations/\\n\\n'"
      ]
     },
     "execution_count": 75,
     "metadata": {},
     "output_type": "execute_result"
    }
   ],
   "source": [
    "\"\"\"\n",
    "Word Embedding\n",
    "\n",
    "Word Embedding이란 Deep Learning 분야, 이 중에서도 특히 자연어처리에서 필수적으로 알아야할 개념이다. Word Embedding은 Word를 R차원의 Vector로 매핑시켜주는 것을 말한다.\n",
    "\n",
    "예를 들어 위와 같이 cat이나 mat같은 단어를 특정 차원의 벡터로 바꾸어주는 것이다. 이렇게 단어를 벡터로 바꾸어주는 것은 하나의 Matrix이다. 이를 W라 부른다. W 함수는 매우 중요하다. 이를 통해 단어가 의미 있는 벡터로 변한다. 비슷한 두 개의 단어는 비슷한 벡터로 바뀐다던지 하는 식으로 말이다. W는 Learning을 통해 학습할 수 있다.\n",
    "예를 들어, 5000개의 단어로 이루어진 단어 세트가 있으면 각각의 단어는 [0,0,0,1,0 ... 0,0,0] (5000열) 과 같이 나타낼 수 있다. 이 때 각각의 단어를 Word Embedding을 통해 32차원 벡터로 나타내고자 하면 W의 차원은 5000*32이다. 이를 학습하여 [0.2,0,4,0.5 ... 0.8,8] 과 같은 32차원의 벡터를 형성해낸다.\n",
    "Word Embedding은 다음과 같은 놀라운 특성도 가질 수 있다.\n",
    "\n",
    "woman을 나타내는 벡터와 man을 나타내는 벡터의 차이는 남녀의 차이를 나타내는 벡터이다. 이것이 aunt와 uncle의 차이를 만들어낸다. 예를 들어 he is a man는 옳은문장 she is a man은 틀린 문장을 구분하는 classifier에서 aunt와 uncle에 대해서도 똑같은 일을 할 수 있게 만든다.\n",
    "\n",
    "참고\n",
    "\n",
    "\n",
    "\n",
    "http://colah.github.io/posts/2014-07-NLP-RNNs-Representations/\n",
    "\n",
    "\"\"\"\n"
   ]
  },
  {
   "cell_type": "code",
   "execution_count": 76,
   "metadata": {},
   "outputs": [],
   "source": [
    "import numpy as np \n",
    "class NearestNeighbor(object): \n",
    "    def __init__(self): \n",
    "        pass \n",
    "    def train(self, X, y): \n",
    "        \"\"\" X is N x D where each row is an example. Y is 1-dimension of size N \"\"\" \n",
    "        # the nearest neighbor classifier simply remembers all the training data \n",
    "        self.Xtr = X \n",
    "        self.ytr = y \n",
    "        def predict(self, X): \n",
    "            \"\"\" X is N x D where each row is an example we wish to predict label for \"\"\" \n",
    "            num_test = X.shape[0] \n",
    "            # lets make sure that the output type matches the input type \n",
    "            Ypred = np.zeros(num_test, dtype = self.ytr.dtype) \n",
    "            # loop over all test rows \n",
    "            for i in xrange(num_test): \n",
    "                # find the nearest training image to the i'th test image # using the L1 distance (sum of absolute value differences) \n",
    "                distances = np.sum(np.abs(self.Xtr - X[i,:]), axis = 1) \n",
    "                min_index = np.argmin(distances) \n",
    "                # get the index with smallest distance \n",
    "                Ypred[i] = self.ytr[min_index] \n",
    "                # predict the label of the nearest example \n",
    "            return Ypred\n",
    "\n"
   ]
  },
  {
   "cell_type": "code",
   "execution_count": 78,
   "metadata": {},
   "outputs": [
    {
     "ename": "NameError",
     "evalue": "name 'Xtr_rows' is not defined",
     "output_type": "error",
     "traceback": [
      "\u001b[0;31m---------------------------------------------------------------------------\u001b[0m",
      "\u001b[0;31mNameError\u001b[0m                                 Traceback (most recent call last)",
      "\u001b[1;32m/Users/juniverse/vscode/dl/GN_Drive/keras0start.ipynb Cell 23'\u001b[0m in \u001b[0;36m<cell line: 2>\u001b[0;34m()\u001b[0m\n\u001b[1;32m      <a href='vscode-notebook-cell:/Users/juniverse/vscode/dl/GN_Drive/keras0start.ipynb#ch0000030?line=0'>1</a>\u001b[0m \u001b[39m# recall Xtr_rows is 50,000 x 3072 matrix\u001b[39;00m\n\u001b[0;32m----> <a href='vscode-notebook-cell:/Users/juniverse/vscode/dl/GN_Drive/keras0start.ipynb#ch0000030?line=1'>2</a>\u001b[0m Xval_rows \u001b[39m=\u001b[39m Xtr_rows[:\u001b[39m1000\u001b[39m, :] \u001b[39m# take first 1000 for validation\u001b[39;00m\n\u001b[1;32m      <a href='vscode-notebook-cell:/Users/juniverse/vscode/dl/GN_Drive/keras0start.ipynb#ch0000030?line=2'>3</a>\u001b[0m Yval \u001b[39m=\u001b[39m Ytr[:\u001b[39m1000\u001b[39m]\n\u001b[1;32m      <a href='vscode-notebook-cell:/Users/juniverse/vscode/dl/GN_Drive/keras0start.ipynb#ch0000030?line=3'>4</a>\u001b[0m Xtr_rows \u001b[39m=\u001b[39m Xtr_rows[\u001b[39m1000\u001b[39m:, :] \u001b[39m# keep last 49,000 for train\u001b[39;00m\n",
      "\u001b[0;31mNameError\u001b[0m: name 'Xtr_rows' is not defined"
     ]
    }
   ],
   "source": [
    "# recall Xtr_rows is 50,000 x 3072 matrix\n",
    "Xval_rows = Xtr_rows[:1000, :] # take first 1000 for validation\n",
    "Yval = Ytr[:1000]\n",
    "Xtr_rows = Xtr_rows[1000:, :] # keep last 49,000 for train\n",
    "Ytr = Ytr[1000:]\n",
    "\n",
    "# find hyperparameters that work best on the validation set\n",
    "validation_accuracies = []\n",
    "for k in [1, 3, 5, 10, 20, 50, 100]:\n",
    "  \n",
    "  # use a particular value of k and evaluation on validation data\n",
    "  nn = NearestNeighbor()\n",
    "  nn.train(Xtr_rows, Ytr)\n",
    "  # here we assume a modified NearestNeighbor class that can take a k as input\n",
    "  Yval_predict = nn.predict(Xval_rows, k = k)\n",
    "  acc = np.mean(Yval_predict == Yval)\n",
    "  print('accuracy: %f' % (acc,))\n",
    "\n",
    "  # keep track of what works on the validation set\n",
    "  validation_accuracies.append((k, acc))\n",
    "\n",
    "\n"
   ]
  },
  {
   "cell_type": "code",
   "execution_count": 80,
   "metadata": {},
   "outputs": [],
   "source": [
    "import torch"
   ]
  },
  {
   "cell_type": "code",
   "execution_count": 96,
   "metadata": {},
   "outputs": [
    {
     "ename": "UnpicklingError",
     "evalue": "invalid load key, '\\x1f'.",
     "output_type": "error",
     "traceback": [
      "\u001b[0;31m---------------------------------------------------------------------------\u001b[0m",
      "\u001b[0;31mUnpicklingError\u001b[0m                           Traceback (most recent call last)",
      "\u001b[1;32m/Users/juniverse/vscode/dl/GN_Drive/keras0start.ipynb Cell 25'\u001b[0m in \u001b[0;36m<cell line: 9>\u001b[0;34m()\u001b[0m\n\u001b[1;32m      <a href='vscode-notebook-cell:/Users/juniverse/vscode/dl/GN_Drive/keras0start.ipynb#ch0000032?line=5'>6</a>\u001b[0m \u001b[39m# load the dataset\u001b[39;00m\n\u001b[1;32m      <a href='vscode-notebook-cell:/Users/juniverse/vscode/dl/GN_Drive/keras0start.ipynb#ch0000032?line=7'>8</a>\u001b[0m f \u001b[39m=\u001b[39m \u001b[39mopen\u001b[39m(\u001b[39m'\u001b[39m\u001b[39m/Users/juniverse/Downloads/mnist.pkl.gz\u001b[39m\u001b[39m'\u001b[39m,\u001b[39m'\u001b[39m\u001b[39mrb\u001b[39m\u001b[39m'\u001b[39m)\n\u001b[0;32m----> <a href='vscode-notebook-cell:/Users/juniverse/vscode/dl/GN_Drive/keras0start.ipynb#ch0000032?line=8'>9</a>\u001b[0m train_set, vlaid_set, test_set \u001b[39m=\u001b[39m cPickle\u001b[39m.\u001b[39;49mload(f, encoding\u001b[39m=\u001b[39;49m\u001b[39m'\u001b[39;49m\u001b[39mlatin1\u001b[39;49m\u001b[39m'\u001b[39;49m)\n\u001b[1;32m     <a href='vscode-notebook-cell:/Users/juniverse/vscode/dl/GN_Drive/keras0start.ipynb#ch0000032?line=9'>10</a>\u001b[0m f\u001b[39m.\u001b[39mclose()\n\u001b[1;32m     <a href='vscode-notebook-cell:/Users/juniverse/vscode/dl/GN_Drive/keras0start.ipynb#ch0000032?line=11'>12</a>\u001b[0m x_train, y_train \u001b[39m=\u001b[39m train_set\n",
      "\u001b[0;31mUnpicklingError\u001b[0m: invalid load key, '\\x1f'."
     ]
    }
   ],
   "source": [
    "import tensorflow as tf\n",
    "import gzip, numpy\n",
    "import pickle as cPickle\n",
    "import pandas as pd\n",
    "\n",
    "# load the dataset\n",
    "\n",
    "f = open('/Users/juniverse/Downloads/mnist.pkl.gz','rb')\n",
    "train_set, vlaid_set, test_set = cPickle.load(f, encoding='latin1')\n",
    "f.close()\n",
    "\n",
    "x_train, y_train = train_set\n",
    "x_test, y_text = test_set"
   ]
  },
  {
   "cell_type": "code",
   "execution_count": 99,
   "metadata": {},
   "outputs": [],
   "source": [
    "import tensorflow as tf\n",
    "import gzip, numpy\n",
    "import pickle as cPickle\n",
    "import pandas as pd\n",
    "\n",
    "# Load the dataset\n",
    "f = open('/Users/juniverse/Downloads/mnist.pkl', 'rb')\n",
    "train_set, valid_set, test_set = cPickle.load(f, encoding='latin1')\n",
    "f.close()\n",
    "\n",
    "x_train, y_train = train_set\n",
    "x_test, y_test = test_set\n"
   ]
  },
  {
   "cell_type": "code",
   "execution_count": 100,
   "metadata": {},
   "outputs": [
    {
     "name": "stdout",
     "output_type": "stream",
     "text": [
      "x_train shape : (50000, 784)\n",
      "y_train shape:  (50000, 10)\n",
      "x_test shape:  (10000, 784)\n",
      "y_test shape:  (10000, 10)\n"
     ]
    }
   ],
   "source": [
    "# pickle로 불러온 변수에는 train_set, valid_set, test_set이 나뉘어져 있기 때문에 위와 같이 load하면 알아서 training, validation, test set으로 나눌 수 있습니다. 또한 각각은 튜플 자료구조형으로 또 다시 x, y로 나뉘어져 있기 때문에 x_train, y_train = train_set 구문을 통해 feature과 label을 분리할 수 있습니다. 이렇게 데이터를 빠르게 training을 적용할 수 있는 형태로 만들어낼 수 있다는 것이 pickle 파일의 좋은 점입니다. 하지만 예제가 아닌 실제 머신러닝 모델을 구축할 때는 이러한 과정을 모두 직접하여야 합니다. 이미지 파일을 읽어들여야하고 또 이것을 적절한 사이즈의 numpy array로 바꾸어야합니다. \n",
    "\n",
    "y_train = pd.get_dummies(y_train)\n",
    "y_test = pd.get_dummies(y_test)\n",
    "\n",
    "# label  -> one hot encoding   \n",
    "# https://wikidocs.net/22647\n",
    "# in tensorflow   label must -> one hot encoding\n",
    "\n",
    "print('x_train shape :',x_train.shape)\n",
    "print('y_train shape: ', y_train.shape)\n",
    "print('x_test shape: ',x_test.shape)\n",
    "print('y_test shape: ', y_test.shape)"
   ]
  },
  {
   "cell_type": "code",
   "execution_count": 103,
   "metadata": {},
   "outputs": [],
   "source": [
    "import tensorflow.compat.v1 as tf \n",
    "tf.disable_v2_behavior()\n",
    "\n",
    "\n",
    "x = tf.placeholder('float', [None, 784])  # data num : None , feature : 784\n",
    "W = tf.Variable(tf.zeros([784,10])) # weight matrix input layer : 784 output layer :10    ## reset to 0\n",
    "b = tf.Variable(tf.zeros([10])) # output layer : 10 ## reset to 0\n",
    "\n",
    "y = tf.nn.softmax(tf.matmul(x, W) + b)  # x and W matrix multiply + bias  \n",
    "#  y = perdiction value\n",
    "y_ = tf.placeholder('float', [None, 10]) \n",
    "\n",
    "# classification : use cross entropy\n",
    "cross_entropy = -tf.reduce_sum(y_*tf.log(y)) \n",
    "train_step = tf.train.GradientDescentOptimizer(0.01).minimize(cross_entropy)\n",
    "\n"
   ]
  },
  {
   "cell_type": "code",
   "execution_count": null,
   "metadata": {},
   "outputs": [],
   "source": [
    "# batch training\n",
    "\n",
    "sess = tf.Session()\n",
    "sess.run(tf.global_variables_initializer())\n",
    "\n",
    "batch_size = 100\n",
    "training_epochs = 3\n",
    "\n",
    "for epoch in range(training_epochs):\n",
    "    batch_count=int(x_train.shape[0]/100) # num of batch\n",
    "    for i in range(batch_count):\n",
    "        # read batch size\n",
    "        batch_xs ,batch_ys= x_train[i*batch_size:i*batch_size+batch_size],y_train[i*batch_size:i*batch_size+batch_size]\n",
    "        #  regulate w, b variable    training\n",
    "        sess.run(train_step, feed_dict={x : batch_xs, y_ : batch_ys})\n",
    "        # [ True, False , False, True , False, True ] like this bollean vector\n",
    "        correct_prediction = tf.equal(tf.argmax(y,1),tf.argmax(y_,1))\n",
    "\n",
    "        # [ 1 01 0101010 010] convert  and evaluate average\n",
    "        accuracy = tf.reduce_mean(tf.cast(correct_prediction,\"float\"))\n",
    "\n",
    "        # if read 5 batch training accuracy print\n",
    "        if i % 100==0:\n",
    "            print(str(epoch+1)+'epoch'+str(i)+'batch',sess.run(accuracy,feed_dict={x:x_test[0:100],y_:y_test[0:100]}))"
   ]
  },
  {
   "cell_type": "code",
   "execution_count": 115,
   "metadata": {},
   "outputs": [],
   "source": [
    "# 이 부분을 이해하기 위해서는 우선 배치 트레이닝에 대하여 알아야 합니다. 배치 트레이닝이란 트레이닝 데이터를 일정 사이즈로 쪼갠 미니 배치(mini batch)를 통해 Gradient Descent를 하는 방법입니다. 일반적인 Gradient Descent 방법은 전체 트레이닝 데이터를 한 번 쭉 보고 gradient를 구한 후 weights와 bias를 '한 번' 업데이트 시킵니다. 하지만 이런 방법은 computation cost가 높습니다. 하지만 미니 배치를 이용한 방법은 전체 데이터의 샘플인 미니 배치를 통해 전체 데이터를 근사 시킵니다. 그리고 이것만 보고 gradient를 구한 후 weight, bias를 업데이트 시킵니다. 예를 들어 배치 사이즈가 128이면 128개의 데이터 샘플들만 보고 gradient를 구한 후 weight, bias를 업데이트 하게 됩니다. 이전 방식에 비해 훨씬 빠르게 weight를 업데이트 시킬 수 있죠. 이렇게 weight를 구하는 방식은 Stochastic Gradient Descent 방법이라고 부릅니다. 실제로 일반적인 Gradient Descent 방법보다는 Stochastic Gradient Descent 방법이 더 많이 쓰입니다. 팁으로는 배치 사이즈는 메모리가 허용하는 범위 내에서 최대한 크게 잡는 것이 좋습니다. 그리고 보통 배치사이즈는 128, 256, 512와 같이 2의 배수로 잡는 경우가 많은데 혹자는 이를 CPU 연산의 효율을 증가시킨다고 합니다. 하지만 111, 234와 같이 아무 배치 사이즈나 잡아도 트레이닝은 잘 합니다.\n",
    "# 이러한 배치 트레이닝의 방식을 이해한다면 위의 텐서플로우 코드도 어렵지 않게 이해할 수 있습니다. \n",
    "\n",
    "sess= tf.Session()\n",
    "sess.run(tf.global_variables_initializer())\n"
   ]
  },
  {
   "cell_type": "code",
   "execution_count": null,
   "metadata": {},
   "outputs": [],
   "source": [
    "# 이제 마지막 트레이닝 파트입니다. 미니 배치를 구할 때 전체 데이터에서 샘플 데이터를 랜덤으로 뽑는 방식도 있지만 여기서는 그냥 순차적으로 배치를 만들었습니다. 0번부터 100번까지를 1배치, 101번부터 200번까지를 2배치와 같은 방식으로 말입니다. (사실 데이터의 순서에 어떠한 규칙이 있다면 이러한 방식은 좋지 않을 수 있습니다.) epoch만큼 전체 데이터를 보아아햐고 또 배치 사이즈만큼 전체 데이터를 쪼개야하니까 이중 for문을 써야하는 것을 알 수 있습니다. 그리고 두 번째 for문에서는 i라는 인덱스와 batch_size라는 변수를 이용하여 원하는 만큼 데이터를 계속해서 불러온후 Gradient Descent를 하면됩니다. 각각의 문장이 의미하는바는 코드에 주석으로 써두었습니다. \n",
    "\n",
    "\n",
    "\n",
    "# 5. 결과\n",
    "\n",
    "\n",
    "#  배치 트레이닝을 100번 했을 때 이미 정확도가 0.93에 육박하는 것을 알 수 있습니다.\n",
    "\n",
    "# 트레이닝이 끝났을 때의 최종 정확도는 0.96 이었습니다. 이미 100번 트레이닝을 했을 때 정확도가 0.93이었기 때문에 그 이상의 training은 의미가 없었을지도 모릅니다. 지금은 validation과정 없이 마구잡이로 트레이닝을 했지만 보통은 언제 training을 끝내야하는지 잘 선택하여야합니다. 계속되는 불필요한 training은 overfitting을 유발할 수 있기 때문입니다. \n",
    "\n",
    "\n",
    "\n"
   ]
  }
 ],
 "metadata": {
  "interpreter": {
   "hash": "daa4b12c7c0dfbea8a86e5c8683f87cd86f2768d8d85b18e100265b2a7dc8fca"
  },
  "kernelspec": {
   "display_name": "Python 3.9.7 ('akihabara_deep')",
   "language": "python",
   "name": "python3"
  },
  "language_info": {
   "codemirror_mode": {
    "name": "ipython",
    "version": 3
   },
   "file_extension": ".py",
   "mimetype": "text/x-python",
   "name": "python",
   "nbconvert_exporter": "python",
   "pygments_lexer": "ipython3",
   "version": "3.9.7"
  },
  "orig_nbformat": 4
 },
 "nbformat": 4,
 "nbformat_minor": 2
}
